{
  "cells": [
    {
      "cell_type": "code",
      "execution_count": null,
      "metadata": {
        "collapsed": false
      },
      "outputs": [],
      "source": [
        "%matplotlib inline"
      ]
    },
    {
      "cell_type": "markdown",
      "metadata": {},
      "source": [
        "\n======================================================================================\n11. Input / Output utilities\n======================================================================================\n\n**Suhas Somnath**\n\n8/12/2017\n\n**This is a short walk-through of useful utilities in pyUSID.io.io_utils that simplify common i/o tasks.**\n\n.. tip::\n    You can download and run this document as a Jupyter notebook using the link at the bottom of this page.\n"
      ]
    },
    {
      "cell_type": "code",
      "execution_count": null,
      "metadata": {
        "collapsed": false
      },
      "outputs": [],
      "source": [
        "from __future__ import print_function, division, unicode_literals\nimport subprocess\nimport sys\n\n\ndef install(package):\n    subprocess.call([sys.executable, \"-m\", \"pip\", \"install\", package])\n# Package for downloading online files:\ntry:\n    import pyUSID as usid\nexcept ImportError:\n    print('pyUSID not found.  Will install with pip.')\n    import pip\n    install('pyUSID')\n    import pyUSID as usid"
      ]
    },
    {
      "cell_type": "markdown",
      "metadata": {},
      "source": [
        "String formatting utilities\n===========================\nFrequently, there is a need to print out logs on the console to inform the user about the size of files, or estimated\ntime remaining for a computation to complete, etc. pyUSID.io_utils has a few handy functions that help in\nformatting quantities in a human readable format.\n\nformat_size()\n--------------\nOne function that uses this functionality to print the size of files etc. is format_size(). While one can manually\nprint the available memory in gibibytes (see above), ``format_size()`` simplifies this substantially:\n\n"
      ]
    },
    {
      "cell_type": "code",
      "execution_count": null,
      "metadata": {
        "collapsed": false
      },
      "outputs": [],
      "source": [
        "mem_in_bytes = usid.processing.comp_utils.get_available_memory()\nprint('Available memory in this machine: {}'.format(usid.io_utils.format_size(mem_in_bytes)))"
      ]
    },
    {
      "cell_type": "markdown",
      "metadata": {},
      "source": [
        "format_time()\n-------------\nOn the same lines, ``format_time()`` is another handy function that is great at formatting time and is often used in\nProcess and Fitter to print the remaining time\n\n"
      ]
    },
    {
      "cell_type": "code",
      "execution_count": null,
      "metadata": {
        "collapsed": false
      },
      "outputs": [],
      "source": [
        "print('{} seconds = {}'.format(14497.34, usid.io_utils.format_time(14497.34)))"
      ]
    },
    {
      "cell_type": "markdown",
      "metadata": {},
      "source": [
        "format_quantity()\n-----------------\nYou can generate your own formatting function based using the generic function: ``format_quantity()``.\nFor example, if ``format_time()`` were not available, we could get the same functionality via:\n\n"
      ]
    },
    {
      "cell_type": "code",
      "execution_count": null,
      "metadata": {
        "collapsed": false
      },
      "outputs": [],
      "source": [
        "units = ['msec', 'sec', 'mins', 'hours']\nfactors = [0.001, 1, 60, 3600]\ntime_value = 14497.34\nprint('{} seconds = {}'.format(14497.34, usid.io_utils.format_quantity(time_value, units, factors)))"
      ]
    },
    {
      "cell_type": "markdown",
      "metadata": {},
      "source": [
        "formatted_str_to_number()\n-------------------------\npyUSID also has a handy function for the inverse problem of getting a numeric value from a formatted string:\n\n"
      ]
    },
    {
      "cell_type": "code",
      "execution_count": null,
      "metadata": {
        "collapsed": false
      },
      "outputs": [],
      "source": [
        "unit_names = [\"MHz\", \"kHz\"]\nunit_magnitudes = [1E+6, 1E+3]\nstr_value = \"4.32 MHz\"\nnum_value = usid.io_utils.formatted_str_to_number(str_value, unit_names, unit_magnitudes, separator=' ')\nprint('formatted_str_to_number says: {} = {}'.format(str_value, num_value))"
      ]
    },
    {
      "cell_type": "markdown",
      "metadata": {},
      "source": [
        "get_time_stamp()\n----------------\nWe try to use a standardized format for storing time stamps in HDF5 files. The function below generates the time\nas a string that can be easily parsed if need be\n\n"
      ]
    },
    {
      "cell_type": "code",
      "execution_count": null,
      "metadata": {
        "collapsed": false
      },
      "outputs": [],
      "source": [
        "print('Current time is: {}'.format(usid.io_utils.get_time_stamp()))"
      ]
    },
    {
      "cell_type": "markdown",
      "metadata": {},
      "source": [
        "Communication utilities\n========================\nfile_dialog()\n-------------\nThis handy function generates a file window to select files. We encourage you to try this function out since it cannot\ndemonstrated within this static document.\n\ncheck_ssh()\n-----------\nWhen developing workflows that need to work on remote or virtual machines in addition to one's own personal computer\nsuch as a laptop, this function is handy at letting the developer know where the code is being executed\n\n"
      ]
    },
    {
      "cell_type": "code",
      "execution_count": null,
      "metadata": {
        "collapsed": false
      },
      "outputs": [],
      "source": [
        "print('Running on remote machine: {}'.format(usid.io_utils.check_ssh()))"
      ]
    }
  ],
  "metadata": {
    "kernelspec": {
      "display_name": "Python 3",
      "language": "python",
      "name": "python3"
    },
    "language_info": {
      "codemirror_mode": {
        "name": "ipython",
        "version": 3
      },
      "file_extension": ".py",
      "mimetype": "text/x-python",
      "name": "python",
      "nbconvert_exporter": "python",
      "pygments_lexer": "ipython3",
      "version": "3.7.1"
    }
  },
  "nbformat": 4,
  "nbformat_minor": 0
}